{
 "cells": [
  {
   "cell_type": "markdown",
   "id": "b23f6eb0",
   "metadata": {},
   "source": [
    "# Notebook to generate molecules from Pretrained Models"
   ]
  },
  {
   "cell_type": "code",
   "execution_count": 1,
   "id": "abf8a229",
   "metadata": {},
   "outputs": [
    {
     "name": "stderr",
     "output_type": "stream",
     "text": [
      "Using backend: pytorch\n"
     ]
    }
   ],
   "source": [
    "import sys\n",
    "sys.path.append('../Optimizer/release')\n",
    "sys.path.append('../Optimizer')\n",
    "import pandas as pd\n",
    "import pickle5 as pickle\n",
    "import matplotlib.pyplot as plt\n",
    "import seaborn as sns\n",
    "import torch\n",
    "import numpy as np\n",
    "from tqdm import tqdm, trange\n",
    "import pickle\n",
    "from rdkit import Chem, DataStructs\n",
    "from rdkit.Chem import AllChem, rdmolfiles\n",
    "from stackRNN import StackAugmentedRNN\n",
    "from data import GeneratorData \n",
    "from utils import canonical_smiles\n",
    "import os\n",
    "from joblib import Parallel, delayed\n",
    "from rdkit.Chem import Crippen\n",
    "from rdkit.Chem.QED import qed\n",
    "from Predictors.SolvationPredictor import FreeSolvPredictor\n",
    "from rdkit.Chem.rdMolDescriptors import CalcTPSA"
   ]
  },
  {
   "cell_type": "code",
   "execution_count": 2,
   "id": "09c2b280",
   "metadata": {},
   "outputs": [],
   "source": [
    "use_cuda = torch.cuda.is_available()"
   ]
  },
  {
   "cell_type": "code",
   "execution_count": 3,
   "id": "d1bc36ce",
   "metadata": {},
   "outputs": [
    {
     "name": "stdout",
     "output_type": "stream",
     "text": [
      "env: CUDA_LAUNCH_BLOCKING=1\n"
     ]
    }
   ],
   "source": [
    "%env CUDA_LAUNCH_BLOCKING=1"
   ]
  },
  {
   "cell_type": "code",
   "execution_count": 4,
   "id": "abc0130d",
   "metadata": {},
   "outputs": [],
   "source": [
    "gen_data_path = '../Optimizer/random.smi'"
   ]
  },
  {
   "cell_type": "code",
   "execution_count": 5,
   "id": "a77ec386",
   "metadata": {},
   "outputs": [],
   "source": [
    "tokens = ['<', '>', '#', '%', ')', '(', '+', '-', '/', '.', '1', '0', '3', '2', '5', '4', '7',\n",
    "          '6', '9', '8', '=', 'A', '@', 'C', 'B', 'F', 'I', 'H', 'O', 'N', 'P', 'S', '[', ']',\n",
    "          '\\\\', 'c', 'e', 'i', 'l', 'o', 'n', 'p', 's', 'r', '\\n']"
   ]
  },
  {
   "cell_type": "code",
   "execution_count": 6,
   "id": "651711c2",
   "metadata": {},
   "outputs": [],
   "source": [
    "gen_data = GeneratorData(training_data_path=gen_data_path, delimiter='\\t', \n",
    "                         cols_to_read=[0], keep_header=True, tokens=tokens)"
   ]
  },
  {
   "cell_type": "markdown",
   "id": "dc92a745",
   "metadata": {},
   "source": [
    "## Perform docking calculation to fetch binding affinity to receptor"
   ]
  },
  {
   "cell_type": "code",
   "execution_count": 17,
   "id": "bf6be967",
   "metadata": {},
   "outputs": [],
   "source": [
    "def dock_and_get_score(smile: str, index: int, receptor: str) -> float:\n",
    "    \"\"\"\n",
    "        smile: SMILES string of the molecule\n",
    "        index: Index of the molecule\n",
    "        Receptor: PDB ID of receptor\n",
    "    \"\"\"\n",
    "    try:\n",
    "        path = \"~/MGLTools-1.5.6/MGLToolsPckgs/AutoDockTools/Utilities24/\"\n",
    "#         path = \"python2.5 ~/MGLTools-1.5.6/mgltools_x86_64Linux2_1.5.6/MGLToolsPckgs/AutoDockTools/Utilities24\"\n",
    "        mol = Chem.MolFromSmiles(smile)\n",
    "        AllChem.EmbedMolecule(mol)\n",
    "        if not os.path.exists(\"molecules\"):\n",
    "            os.mkdir(\"molecules\")\n",
    "        if not os.path.exists(\"logs\"):\n",
    "            os.mkdir(\"logs\")\n",
    "        rdmolfiles.MolToPDBFile(mol, \"molecules/\" + str(index) + \".pdb\")\n",
    "    \n",
    "        os.system(f\"{path}/prepare_ligand4.py -l molecules/{str(index) + '.pdb'} -o molecules/{str(index) + '.pdbqt'}\")\n",
    "        os.system(f\"{path}/prepare_receptor4.py -r ../Optimizer/{receptor}.pdb\")    \n",
    "        os.system(f\"{path}/prepare_gpf4.py -i ../Optimizer/{receptor}_ref.gpf -l molecules/{str(index) + '.pdbqt'} -r {receptor}.pdbqt\")\n",
    "    \n",
    "        os.system(f\"autogrid4 -p {receptor}.gpf > /dev/null 2>&1\")\n",
    "        os.system(f\"~/AutoDock-GPU/bin/autodock_gpu_64wi -ffile {receptor}.maps.fld -lfile molecules/{str(index) + '.pdbqt'} -resnam logs/{str(index)} -nrun 5 -devnum 1\")\n",
    "    \n",
    "        cmd = f\"cat logs/{str(index) + '.dlg'} | grep -i ranking | tr -s '\\t' ' ' | cut -d ' ' -f 5 | head -n1\"\n",
    "        stream = os.popen(cmd)\n",
    "        output = float(stream.read().strip())\n",
    "        return output\n",
    "    except Exception as e:\n",
    "        print(f\"Did Not Complete because of {e}\")\n",
    "        return 0"
   ]
  },
  {
   "cell_type": "code",
   "execution_count": 8,
   "id": "06680b27",
   "metadata": {},
   "outputs": [],
   "source": [
    "from tqdm.notebook import tqdm\n",
    "class Predictor(object):\n",
    "    def __init__(self):\n",
    "        super(Predictor, self).__init__()\n",
    "        \n",
    "    def predict(self, smiles, receptor, use_tqdm=False):\n",
    "        canonical_indices = []\n",
    "        invalid_indices = []\n",
    "        if use_tqdm:\n",
    "            pbar = tqdm(range(len(smiles)))\n",
    "        else:\n",
    "            pbar = range(len(smiles))\n",
    "        for i in pbar:\n",
    "            sm = smiles[i]\n",
    "            if use_tqdm:\n",
    "                pbar.set_description(\"Calculating predictions...\")\n",
    "            try:\n",
    "                sm = Chem.MolToSmiles(Chem.MolFromSmiles(sm))\n",
    "                if len(sm) == 0:\n",
    "                    invalid_indices.append(i)\n",
    "                else:\n",
    "                    canonical_indices.append(i)\n",
    "            except:\n",
    "                invalid_indices.append(i)\n",
    "        canonical_smiles = [smiles[i] for i in canonical_indices]\n",
    "        invalid_smiles = [smiles[i] for i in invalid_indices]\n",
    "        if len(canonical_indices) == 0:\n",
    "            return canonical_smiles, [], invalid_smiles\n",
    "        prediction = [dock_and_get_score(smiles[index], index, receptor) for index in tqdm(canonical_indices)]\n",
    "        return canonical_smiles, prediction, invalid_smiles"
   ]
  },
  {
   "cell_type": "markdown",
   "id": "1a07b4ba",
   "metadata": {},
   "source": [
    "## Create KDEPlot of bindaing affinities of generated molecules"
   ]
  },
  {
   "cell_type": "code",
   "execution_count": 18,
   "id": "2f4f66f6",
   "metadata": {},
   "outputs": [],
   "source": [
    "def plot_hist(prediction, n_to_generate):\n",
    "    prediction = np.array(prediction)\n",
    "    ax = sns.kdeplot(prediction, shade=True)\n",
    "    ax.set(xlabel='Predicted Docking Score', \n",
    "           title='Distribution of predicted Docking for generated molecules')\n",
    "    plt.show()"
   ]
  },
  {
   "cell_type": "code",
   "execution_count": 19,
   "id": "2fff3ea9",
   "metadata": {},
   "outputs": [],
   "source": [
    "def estimate_and_update(generator, predictor, n_to_generate, receptor):\n",
    "    generated = []\n",
    "    pbar = tqdm(range(n_to_generate))\n",
    "    for i in pbar:\n",
    "        pbar.set_description(\"Generating molecules...\")\n",
    "        generated.append(generator.evaluate(gen_data, predict_len=120)[1:-1])\n",
    "    \n",
    "    sanitized = canonical_smiles(generated, sanitize=False, throw_warning=False)[:-1]\n",
    "    unique_smiles = list(np.unique(sanitized))[1:]\n",
    "    smiles, prediction, nan_smiles = predictor.predict(unique_smiles, receptor)  \n",
    "                                                       \n",
    "    plot_hist(prediction, n_to_generate)\n",
    "        \n",
    "    return smiles, prediction"
   ]
  },
  {
   "cell_type": "markdown",
   "id": "fd06d511",
   "metadata": {},
   "source": [
    "## Automatically loads the pretrained models given in the repository"
   ]
  },
  {
   "cell_type": "code",
   "execution_count": 20,
   "id": "ce6ba968",
   "metadata": {},
   "outputs": [],
   "source": [
    "def load_pretrained(\n",
    "    reward, calculator, receptor, \n",
    "    LogP_target=None, QED_target=None, \n",
    "    hydration_target=None, TPSA_target=None, strategy=None):\n",
    "    \"\"\"\n",
    "        reward: Exponential/Linear (All current models use exponential)\n",
    "        calculator: docking/gin\n",
    "        receptor: 4BTK/6LU7\n",
    "        LogP_target: Optional\n",
    "        QED_target: Optional\n",
    "        hydration_target: Optional\n",
    "        TPSA_target: Optional\n",
    "        Strategy: None for Single Objective and sum/switch for Multiobjective\n",
    "    \"\"\"\n",
    "    \n",
    "    file_name = f'../models/{calculator}/model_{reward}_{calculator}_{receptor}'\n",
    "    if LogP_target:\n",
    "        file_name += f\"_LogP{LogP_target}\"\n",
    "    if QED_target:\n",
    "        file_name += f\"_QED{QED_target}\"\n",
    "    if hydration_target:\n",
    "        file_name += f\"_solvation{hydration_target}\"\n",
    "    if TPSA_target:\n",
    "        file_name += f\"_tpsa{TPSA_target}\"\n",
    "    if strategy:\n",
    "        file_name += f\"_{strategy}\"\n",
    "    hidden_size = 1500\n",
    "    stack_width = 1500\n",
    "    stack_depth = 200\n",
    "    layer_type = 'GRU'\n",
    "    lr = 0.001\n",
    "    optimizer_instance = torch.optim.Adadelta\n",
    "    my_generator = StackAugmentedRNN(input_size=gen_data.n_characters, hidden_size=hidden_size,\n",
    "                                     output_size=gen_data.n_characters, layer_type=layer_type,\n",
    "                                     n_layers=1, is_bidirectional=False, has_stack=True,\n",
    "                                     stack_width=stack_width, stack_depth=stack_depth, \n",
    "                                     use_cuda=use_cuda, \n",
    "                                     optimizer_instance=optimizer_instance, lr=lr)\n",
    "    my_generator.load_model(file_name)\n",
    "    \n",
    "    if calculator == 'docking':\n",
    "        pred = Predictor()\n",
    "    elif calculator == 'gin':\n",
    "        from Predictors import GINPredictor\n",
    "        pred = GINPredictor.Predictor('../Optimizer/Predictors/GINPredictor.tar')\n",
    "    return my_generator, pred"
   ]
  },
  {
   "cell_type": "markdown",
   "id": "c49acfcf",
   "metadata": {},
   "source": [
    "### In the next cell declare the expected target values and keep them None if the model was not optimized for them"
   ]
  },
  {
   "cell_type": "markdown",
   "id": "689009be",
   "metadata": {},
   "source": [
    "The given example fetches the model that is trained only on binding affinity with 4BTK calculated using GIN"
   ]
  },
  {
   "cell_type": "code",
   "execution_count": 12,
   "id": "006c5516",
   "metadata": {},
   "outputs": [],
   "source": [
    "kwargs = {\n",
    "    'reward': 'exponential',\n",
    "    'calculator': 'gin',\n",
    "    'receptor': '4BTK',\n",
    "    'LogP_target': None,\n",
    "    'QED_target': None,\n",
    "    'hydration_target': None,\n",
    "    'TPSA_target': None,\n",
    "    'strategy': None\n",
    "}"
   ]
  },
  {
   "cell_type": "markdown",
   "id": "ed26669b",
   "metadata": {},
   "source": [
    "The given example fetches the model that is trained on binding affinity with 6LU7 calculated using AutoDock-GPU and target LogP of 2.5 by alteranting rewards"
   ]
  },
  {
   "cell_type": "code",
   "execution_count": 25,
   "id": "d0c0f738",
   "metadata": {},
   "outputs": [],
   "source": [
    "kwargs = {\n",
    "    'reward': 'exponential',\n",
    "    'calculator': 'docking',\n",
    "    'receptor': '6LU7',\n",
    "    'LogP_target': 2.5,\n",
    "    'QED_target': None,\n",
    "    'hydration_target': None,\n",
    "    'TPSA_target': None,\n",
    "    'strategy': 'switch'\n",
    "}"
   ]
  },
  {
   "cell_type": "code",
   "execution_count": 26,
   "id": "b8a79c8d",
   "metadata": {},
   "outputs": [],
   "source": [
    "model, predictor = load_pretrained(**kwargs)"
   ]
  },
  {
   "cell_type": "markdown",
   "id": "622a15cc",
   "metadata": {},
   "source": [
    "### Generate SMILES strings and calculate the binding affinities"
   ]
  },
  {
   "cell_type": "code",
   "execution_count": 14,
   "id": "c166212c",
   "metadata": {},
   "outputs": [
    {
     "data": {
      "application/vnd.jupyter.widget-view+json": {
       "model_id": "2d18fbd7b5b14bdba4a9d6b6f6ae3c8a",
       "version_major": 2,
       "version_minor": 0
      },
      "text/plain": [
       "  0%|          | 0/10 [00:00<?, ?it/s]"
      ]
     },
     "metadata": {},
     "output_type": "display_data"
    },
    {
     "name": "stderr",
     "output_type": "stream",
     "text": [
      "../Optimizer/release/data.py:98: UserWarning: To copy construct from a tensor, it is recommended to use sourceTensor.clone().detach() or sourceTensor.clone().detach().requires_grad_(True), rather than torch.tensor(sourceTensor).\n",
      "  return torch.tensor(tensor).cuda()\n",
      "Calculating predictions...: 100%|███████████████████████████████████████████████████████████████████████████████████████████████████████████████████| 8/8 [00:00<00:00, 737.06it/s]\n"
     ]
    },
    {
     "data": {
      "image/png": "[encoded data removed]",
      "text/plain": [
       "<Figure size 432x288 with 1 Axes>"
      ]
     },
     "metadata": {
      "needs_background": "light"
     },
     "output_type": "display_data"
    }
   ],
   "source": [
    "smiles, predictions = estimate_and_update(model, predictor, 10, kwargs['receptor'])"
   ]
  },
  {
   "cell_type": "code",
   "execution_count": 27,
   "id": "19cbc150",
   "metadata": {},
   "outputs": [],
   "source": [
    "def get_all_props(smiles, predictions):\n",
    "    mols = [Chem.MolFromSmiles(sm) for sm in smiles]\n",
    "    LogPs = [Crippen.MolLogP(mol) for mol in mols]\n",
    "    solv_predictor = FreeSolvPredictor('../Optimizer/Predictors/SolvationPredictor.tar')\n",
    "    _, hydrations, _ = solv_predictor.predict(smiles, use_tqdm=False)\n",
    "    tpsas = [CalcTPSA(mol) for mol in mols]\n",
    "    qeds = []\n",
    "    for mol in mols:\n",
    "        try:\n",
    "            qeds.append(qed(mol))\n",
    "        except:\n",
    "            pass\n",
    "    return pd.DataFrame({\n",
    "        'Smile': smiles,\n",
    "        'Binding Affinity': predictions,\n",
    "        'LogP': LogPs,\n",
    "        'QED': qeds,\n",
    "        'TPSA': tpsas,\n",
    "        '$\\Delta G_{Hyd}$': hydrations\n",
    "    })"
   ]
  },
  {
   "cell_type": "code",
   "execution_count": 28,
   "id": "023abbce",
   "metadata": {},
   "outputs": [
    {
     "data": {
      "text/html": [
       "<div>\n",
       "<style scoped>\n",
       "    .dataframe tbody tr th:only-of-type {\n",
       "        vertical-align: middle;\n",
       "    }\n",
       "\n",
       "    .dataframe tbody tr th {\n",
       "        vertical-align: top;\n",
       "    }\n",
       "\n",
       "    .dataframe thead th {\n",
       "        text-align: right;\n",
       "    }\n",
       "</style>\n",
       "<table border=\"1\" class=\"dataframe\">\n",
       "  <thead>\n",
       "    <tr style=\"text-align: right;\">\n",
       "      <th></th>\n",
       "      <th>Smile</th>\n",
       "      <th>Binding Affinity</th>\n",
       "      <th>LogP</th>\n",
       "      <th>QED</th>\n",
       "      <th>TPSA</th>\n",
       "      <th>$\\Delta G_{Hyd}$</th>\n",
       "    </tr>\n",
       "  </thead>\n",
       "  <tbody>\n",
       "    <tr>\n",
       "      <th>0</th>\n",
       "      <td>CC(=O)c1ccc(C(Cc2ccccc2)c2ccc(C(=Cc3ccccc3)Cc3...</td>\n",
       "      <td>-8.984436</td>\n",
       "      <td>11.50910</td>\n",
       "      <td>0.088865</td>\n",
       "      <td>51.21</td>\n",
       "      <td>-6.598685</td>\n",
       "    </tr>\n",
       "    <tr>\n",
       "      <th>1</th>\n",
       "      <td>CCC(=O)c1ccccc1Oc1cccc(C(NC(=O)c2ccccc2)c2cccc...</td>\n",
       "      <td>-8.059887</td>\n",
       "      <td>7.82200</td>\n",
       "      <td>0.183692</td>\n",
       "      <td>72.47</td>\n",
       "      <td>-8.985065</td>\n",
       "    </tr>\n",
       "    <tr>\n",
       "      <th>2</th>\n",
       "      <td>CCc1ccc(C(=O)c2ccc(C(=Cc3ccncc3)c3cccc(-c4ccc(...</td>\n",
       "      <td>-8.681552</td>\n",
       "      <td>9.36190</td>\n",
       "      <td>0.163025</td>\n",
       "      <td>47.03</td>\n",
       "      <td>-8.204513</td>\n",
       "    </tr>\n",
       "    <tr>\n",
       "      <th>3</th>\n",
       "      <td>COc1ccc(CCNS(=O)(=O)c2ccc(C(=O)c3ccc(c4ccc(C#N...</td>\n",
       "      <td>-8.557082</td>\n",
       "      <td>9.80148</td>\n",
       "      <td>0.101726</td>\n",
       "      <td>131.79</td>\n",
       "      <td>-10.198419</td>\n",
       "    </tr>\n",
       "    <tr>\n",
       "      <th>4</th>\n",
       "      <td>COc1ccc(c2ccc(C(=O)c3ccccc3)cc2)cc1C(=O)c1cccc...</td>\n",
       "      <td>-8.906693</td>\n",
       "      <td>12.32920</td>\n",
       "      <td>0.102935</td>\n",
       "      <td>98.77</td>\n",
       "      <td>-8.992311</td>\n",
       "    </tr>\n",
       "    <tr>\n",
       "      <th>5</th>\n",
       "      <td>COc1ccccc1Cn1cc(c2ccccc2-c2ccccc2)nc1C(=NOCc1c...</td>\n",
       "      <td>-8.047053</td>\n",
       "      <td>8.15140</td>\n",
       "      <td>0.085754</td>\n",
       "      <td>91.78</td>\n",
       "      <td>-6.668213</td>\n",
       "    </tr>\n",
       "    <tr>\n",
       "      <th>6</th>\n",
       "      <td>O=C(c1ccccc1)N1Cc2cc(c3ccccc3)ccc2CC1c1cncc(Nc...</td>\n",
       "      <td>-7.876609</td>\n",
       "      <td>10.52040</td>\n",
       "      <td>0.092415</td>\n",
       "      <td>88.37</td>\n",
       "      <td>-7.480963</td>\n",
       "    </tr>\n",
       "  </tbody>\n",
       "</table>\n",
       "</div>"
      ],
      "text/plain": [
       "                                               Smile  Binding Affinity  \\\n",
       "0  CC(=O)c1ccc(C(Cc2ccccc2)c2ccc(C(=Cc3ccccc3)Cc3...         -8.984436   \n",
       "1  CCC(=O)c1ccccc1Oc1cccc(C(NC(=O)c2ccccc2)c2cccc...         -8.059887   \n",
       "2  CCc1ccc(C(=O)c2ccc(C(=Cc3ccncc3)c3cccc(-c4ccc(...         -8.681552   \n",
       "3  COc1ccc(CCNS(=O)(=O)c2ccc(C(=O)c3ccc(c4ccc(C#N...         -8.557082   \n",
       "4  COc1ccc(c2ccc(C(=O)c3ccccc3)cc2)cc1C(=O)c1cccc...         -8.906693   \n",
       "5  COc1ccccc1Cn1cc(c2ccccc2-c2ccccc2)nc1C(=NOCc1c...         -8.047053   \n",
       "6  O=C(c1ccccc1)N1Cc2cc(c3ccccc3)ccc2CC1c1cncc(Nc...         -7.876609   \n",
       "\n",
       "       LogP       QED    TPSA  $\\Delta G_{Hyd}$  \n",
       "0  11.50910  0.088865   51.21         -6.598685  \n",
       "1   7.82200  0.183692   72.47         -8.985065  \n",
       "2   9.36190  0.163025   47.03         -8.204513  \n",
       "3   9.80148  0.101726  131.79        -10.198419  \n",
       "4  12.32920  0.102935   98.77         -8.992311  \n",
       "5   8.15140  0.085754   91.78         -6.668213  \n",
       "6  10.52040  0.092415   88.37         -7.480963  "
      ]
     },
     "execution_count": 28,
     "metadata": {},
     "output_type": "execute_result"
    }
   ],
   "source": [
    "df = get_all_props(smiles, predictions)\n",
    "df"
   ]
  },
  {
   "cell_type": "code",
   "execution_count": null,
   "id": "4768bb40",
   "metadata": {},
   "outputs": [],
   "source": []
  }
 ],
 "metadata": {
  "kernelspec": {
   "display_name": "Python 3 (ipykernel)",
   "language": "python",
   "name": "python3"
  },
  "language_info": {
   "codemirror_mode": {
    "name": "ipython",
    "version": 3
   },
   "file_extension": ".py",
   "mimetype": "text/x-python",
   "name": "python",
   "nbconvert_exporter": "python",
   "pygments_lexer": "ipython3",
   "version": "3.7.10"
  }
 },
 "nbformat": 4,
 "nbformat_minor": 5
}
